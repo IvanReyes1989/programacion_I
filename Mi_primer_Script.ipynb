{
 "cells": [
  {
   "cell_type": "markdown",
   "metadata": {},
   "source": [
    "Mi primer script\n"
   ]
  },
  {
   "cell_type": "code",
   "execution_count": 21,
   "metadata": {},
   "outputs": [
    {
     "data": {
      "text/plain": [
       "5"
      ]
     },
     "execution_count": 21,
     "metadata": {},
     "output_type": "execute_result"
    }
   ],
   "source": [
    "2 + 3"
   ]
  },
  {
   "cell_type": "code",
   "execution_count": 22,
   "metadata": {},
   "outputs": [],
   "source": [
    "A = 3;"
   ]
  },
  {
   "cell_type": "code",
   "execution_count": 23,
   "metadata": {},
   "outputs": [],
   "source": [
    "B=6"
   ]
  },
  {
   "cell_type": "code",
   "execution_count": 24,
   "metadata": {},
   "outputs": [],
   "source": [
    "C = A + B"
   ]
  },
  {
   "cell_type": "code",
   "execution_count": 25,
   "metadata": {},
   "outputs": [
    {
     "data": {
      "text/plain": [
       "9"
      ]
     },
     "execution_count": 25,
     "metadata": {},
     "output_type": "execute_result"
    }
   ],
   "source": [
    "C"
   ]
  },
  {
   "cell_type": "markdown",
   "metadata": {},
   "source": [
    "Multiplicación de variables"
   ]
  },
  {
   "cell_type": "code",
   "execution_count": 26,
   "metadata": {},
   "outputs": [
    {
     "data": {
      "text/plain": [
       "18"
      ]
     },
     "execution_count": 26,
     "metadata": {},
     "output_type": "execute_result"
    }
   ],
   "source": [
    "D=A*B\n",
    "D"
   ]
  },
  {
   "cell_type": "markdown",
   "metadata": {},
   "source": [
    "suma de dos variables"
   ]
  },
  {
   "cell_type": "code",
   "execution_count": 27,
   "metadata": {},
   "outputs": [
    {
     "name": "stdout",
     "output_type": "stream",
     "text": [
      "las suma es: 15\n"
     ]
    }
   ],
   "source": [
    "num1= 5\n",
    "num2= 10\n",
    "suma = num1 + num2\n",
    "print(\"las suma es:\",suma)"
   ]
  },
  {
   "cell_type": "markdown",
   "metadata": {},
   "source": [
    "la resta de dos variables"
   ]
  },
  {
   "cell_type": "code",
   "execution_count": 30,
   "metadata": {},
   "outputs": [
    {
     "name": "stdout",
     "output_type": "stream",
     "text": [
      "las resta es: 10\n"
     ]
    }
   ],
   "source": [
    " numA= 20\n",
    "numB= 10\n",
    "suma = numA - numB\n",
    "print(\"las resta es:\",suma)"
   ]
  },
  {
   "cell_type": "code",
   "execution_count": 4,
   "metadata": {},
   "outputs": [
    {
     "data": {
      "text/plain": [
       "7.5"
      ]
     },
     "execution_count": 4,
     "metadata": {},
     "output_type": "execute_result"
    }
   ],
   "source": [
    "base=5\n",
    "height=3\n",
    "Area = (base*height)/2\n",
    "\n",
    "Area"
   ]
  },
  {
   "cell_type": "code",
   "execution_count": 5,
   "metadata": {},
   "outputs": [
    {
     "data": {
      "text/plain": [
       "15"
      ]
     },
     "execution_count": 5,
     "metadata": {},
     "output_type": "execute_result"
    }
   ],
   "source": [
    "base1=7\n",
    "height1=3\n",
    "Area = (base*height)\n",
    "\n",
    "Area"
   ]
  },
  {
   "cell_type": "code",
   "execution_count": 7,
   "metadata": {},
   "outputs": [
    {
     "name": "stdout",
     "output_type": "stream",
     "text": [
      "el radio es: 78.54 m2\n"
     ]
    }
   ],
   "source": [
    "import math\n",
    "radio = 5\n",
    "circulo = math.pi * (radio **2)\n",
    "print(\"el radio es:\",round(circulo,2), \"m2\")"
   ]
  },
  {
   "cell_type": "code",
   "execution_count": 1,
   "metadata": {},
   "outputs": [
    {
     "name": "stdout",
     "output_type": "stream",
     "text": [
      "La suma es 25\n"
     ]
    }
   ],
   "source": [
    "n1 = input(\"introduce el primer valor\")\n",
    "n2 = input(\"Introduce el segundo valor\")\n",
    "suma = n1 + n2\n",
    "print(\"La suma es\",suma)"
   ]
  },
  {
   "cell_type": "code",
   "execution_count": 2,
   "metadata": {},
   "outputs": [
    {
     "name": "stdout",
     "output_type": "stream",
     "text": [
      "La suma es 15\n"
     ]
    }
   ],
   "source": [
    "n1 = int(input(\"introduce el primer valor\"))\n",
    "n2 = int(input(\"Introduce el segundo valor\"))   \n",
    "suma = n1 + n2\n",
    "print(\"La suma es\",suma)"
   ]
  },
  {
   "cell_type": "markdown",
   "metadata": {},
   "source": [
    "Tarea\n",
    "Con input agregar \n",
    "-triangulo \n",
    "-rectángulo \n",
    "-circulo \n",
    "-convertir de F a C \n",
    "- convertir de C a F"
   ]
  },
  {
   "cell_type": "code",
   "execution_count": 5,
   "metadata": {},
   "outputs": [
    {
     "name": "stdout",
     "output_type": "stream",
     "text": [
      "El área es 7.5\n"
     ]
    }
   ],
   "source": [
    "#área del triangulo\n",
    "Base1 = int(input(\"introduce el valor de base\"))\n",
    "altura2 = int(input(\"Introduce el valor altura\"))   \n",
    "area = (Base1 * altura2)/2\n",
    "print(\"El área es\",area)"
   ]
  },
  {
   "cell_type": "code",
   "execution_count": 6,
   "metadata": {},
   "outputs": [
    {
     "name": "stdout",
     "output_type": "stream",
     "text": [
      "El área es 230\n"
     ]
    }
   ],
   "source": [
    "#área del rectangulo\n",
    "Base2 = int(input(\"introduce el valor de base\"))\n",
    "altura3 = int(input(\"Introduce el valor altura\"))   \n",
    "area = Base2 * altura3\n",
    "print(\"El área es\",area)"
   ]
  },
  {
   "cell_type": "code",
   "execution_count": 10,
   "metadata": {},
   "outputs": [
    {
     "name": "stdout",
     "output_type": "stream",
     "text": [
      "el radio es: 1134.11 m2\n"
     ]
    }
   ],
   "source": [
    "#área del Circulo\n",
    "import math\n",
    "radio1 = int(input(\"introduce el valor del radio\"))\n",
    "circulo1=  math.pi * (radio1 **2)\n",
    "print(\"el radio es:\",round(circulo1,2), \"m2\")"
   ]
  },
  {
   "cell_type": "code",
   "execution_count": 15,
   "metadata": {},
   "outputs": [
    {
     "name": "stdout",
     "output_type": "stream",
     "text": [
      "Grados Centigrados: 50.0\n"
     ]
    }
   ],
   "source": [
    "#Grados F a Grados C\n",
    "\n",
    "F = int(input(\"introduce los grados Fahrenheit\"))\n",
    "Centigrados= F*1.8+32\n",
    "print(\"Grados Centigrados:\",Centigrados)"
   ]
  },
  {
   "cell_type": "code",
   "execution_count": 16,
   "metadata": {},
   "outputs": [
    {
     "name": "stdout",
     "output_type": "stream",
     "text": [
      "Grados Fahrenheit: 10.0\n"
     ]
    }
   ],
   "source": [
    "#Grados C a Grados F\n",
    "\n",
    "Centigrados = int(input(\"introduce los grados Fahrenheit\"))\n",
    "Fahrenheit= (Centigrados-32)/1.8\n",
    "print(\"Grados Fahrenheit:\",Fahrenheit)"
   ]
  }
 ],
 "metadata": {
  "kernelspec": {
   "display_name": "progra_1",
   "language": "python",
   "name": "python3"
  },
  "language_info": {
   "codemirror_mode": {
    "name": "ipython",
    "version": 3
   },
   "file_extension": ".py",
   "mimetype": "text/x-python",
   "name": "python",
   "nbconvert_exporter": "python",
   "pygments_lexer": "ipython3",
   "version": "3.8.17"
  },
  "orig_nbformat": 4
 },
 "nbformat": 4,
 "nbformat_minor": 2
}
